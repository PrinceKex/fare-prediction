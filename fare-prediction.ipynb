{
 "cells": [
  {
   "cell_type": "code",
   "execution_count": null,
   "metadata": {},
   "outputs": [],
   "source": [
    "# from colabcode import ColabCode\n",
    "# ColabCode(port=10000, password='Nelson123')"
   ]
  },
  {
   "cell_type": "markdown",
   "metadata": {},
   "source": [
    "use 1% of data to speed up initial analysis"
   ]
  },
  {
   "cell_type": "code",
   "execution_count": null,
   "metadata": {},
   "outputs": [],
   "source": [
    "import pandas as pd\n",
    "import random\n",
    "\n",
    "url = 'https://raw.githubusercontent.com/PrinceKex/fare-prediction/refs/heads/main/taxifare.csv'\n",
    "\n",
    "selected_cols = 'fare_amount,pickup_datetime,pickup_longitude,pickup_latitude,dropoff_longitude,dropoff_latitude,passenger_count'.split(',')\n",
    "\n",
    "# define the data types\n",
    "dtypes = {\n",
    "  'fare_amount': 'float32',\n",
    "  'pickup_datetime': 'float32',\n",
    "  \"pickup_longitude\": 'float32',\n",
    "  'pickup_latitude': 'float32',\n",
    "  'dropoff_longitude': 'float32',\n",
    "  'dropoff_latitude': 'float32',\n",
    "  'passenger_count': 'uint8'\n",
    "}\n",
    "\n",
    "# define skip row function to randomize selection\n",
    "def skip_row(row_idx):\n",
    "  if row_idx == 0:\n",
    "    return False\n",
    "  return random.random() > 0.01\n",
    "random.seed(42)\n",
    "  \n",
    "\n",
    "\n",
    "df = pd.read_csv(url, usecols=selected_cols, parse_dates=['pickup_datetime'] dtype=dtypes)\n",
    "df.head()\n",
    "df.shape"
   ]
  }
 ],
 "metadata": {
  "kernelspec": {
   "display_name": ".venv",
   "language": "python",
   "name": "python3"
  },
  "language_info": {
   "codemirror_mode": {
    "name": "ipython",
    "version": 3
   },
   "file_extension": ".py",
   "mimetype": "text/x-python",
   "name": "python",
   "nbconvert_exporter": "python",
   "pygments_lexer": "ipython3",
   "version": "3.12.4"
  }
 },
 "nbformat": 4,
 "nbformat_minor": 2
}
